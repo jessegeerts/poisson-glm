{
 "cells": [
  {
   "cell_type": "code",
   "execution_count": null,
   "metadata": {},
   "outputs": [],
   "source": [
    "import numpy as np\n",
    "from simulate.simulate_spatial_cells import sim_hd_cell_spikes\n",
    "import statsmodels.api as sm\n",
    "from statsmodels.genmod.families import Poisson\n",
    "from statsmodels.genmod.families.links import identity, log\n",
    "from pandas import DataFrame as df\n",
    "import matplotlib.pyplot as plt\n",
    "from scipy.stats import chi2\n",
    "from statsmodels.distributions.empirical_distribution import ECDF\n",
    "from scipy.stats import multivariate_normal\n",
    "from scipy.io import loadmat\n",
    "from utils import get_dir_from_xy\n",
    "\n",
    "import matplotlib\n",
    "\n",
    "font = {'size'   : 20}\n",
    "matplotlib.rc('font', **font)  # pass in the font dict as kwargs\n"
   ]
  },
  {
   "cell_type": "code",
   "execution_count": null,
   "metadata": {
    "pycharm": {
     "name": "#%%\n"
    }
   },
   "outputs": [],
   "source": []
  },
  {
   "cell_type": "code",
   "execution_count": null,
   "metadata": {
    "pycharm": {
     "name": "#%%\n"
    }
   },
   "outputs": [],
   "source": [
    "# load some example data\n",
    "data = loadmat('hipp_data')\n",
    "xPos = data['xN'].squeeze() * 100  # convert to cm\n",
    "yPos = data['yN'].squeeze() * 100\n",
    "samp_freq = np.round(1 / np.diff(data['T'].squeeze())[0])\n",
    "spikes = data['spikes2'].squeeze()\n",
    "\n",
    "head_dir = get_dir_from_xy(xPos, yPos) + np.pi"
   ]
  },
  {
   "cell_type": "markdown",
   "metadata": {},
   "source": []
  },
  {
   "cell_type": "code",
   "execution_count": null,
   "metadata": {
    "pycharm": {
     "name": "#%%\n"
    }
   },
   "outputs": [],
   "source": [
    "# simulate a head direction cell\n",
    "pref_dir = np.pi / 4  # preferred firing direction\n",
    "precision = 4  # inverse of width of tuning\n",
    "max_rate = 15\n",
    "\n",
    "spikes, c = sim_hd_cell_spikes(head_dir, pref_dir=pref_dir, concentration=precision, max_rate=max_rate, sampling_frequency=samp_freq, return_object=True)"
   ]
  },
  {
   "cell_type": "code",
   "execution_count": null,
   "metadata": {
    "pycharm": {
     "name": "#%%\n"
    }
   },
   "outputs": [],
   "source": [
    "\n"
   ]
  },
  {
   "cell_type": "code",
   "execution_count": null,
   "metadata": {
    "pycharm": {
     "name": "#%%\n"
    }
   },
   "outputs": [],
   "source": [
    "# get a directional ratemap for the simulated cell\n",
    "\n",
    "n_bins = 20\n",
    "bin_edges = np.linspace(0, np.pi*2, n_bins + 1)\n",
    "bin_size_rad = 2 * np.pi / n_bins\n",
    "\n",
    "spike_hist, _ = np.histogram(head_dir[spikes], bin_edges)\n",
    "\n",
    "dir_occupancy, _  = np.histogram(head_dir, bin_edges)\n",
    "dir_occupancy = dir_occupancy / samp_freq  # convert to seconds\n",
    "\n",
    "ratemap = spike_hist / dir_occupancy\n",
    "\n",
    "bin_centres = bin_edges[:-1] + bin_size_rad / 2\n",
    "\n",
    "width = 2 * np.pi / len(ratemap)\n",
    "fig, ax = plt.subplots(subplot_kw={'projection': 'polar'})\n",
    "ax.bar(bin_centres, ratemap, width=width)\n",
    "\n",
    "#plt.xlim(0,7)"
   ]
  },
  {
   "cell_type": "markdown",
   "metadata": {
    "pycharm": {
     "name": "#%% md\n"
    }
   },
   "source": [
    "    # Fitting a poisson-GLM\n",
    "\n",
    "We will run a poisson-GLM with $\\sin(\\theta)$ and $\\cos(\\theta)$ as predictors:$$\\log \\lambda(t) = \\beta_0 + \\beta_1 \\sin \\theta + \\beta_2 \\cos \\theta $$\n",
    "\n",
    "This can be rewritten as a Von Mises: $$\\lambda = \\alpha \\exp(\\kappa \\cos(\\theta-\\phi))$$\n",
    "with preferred firing rate $\\phi = \\arctan(\\beta_1/\\beta_2)$ and concentration (inverse width of tuning curve) $\\kappa= \\beta_2 \\sqrt \\left(1+\\frac{\\beta_1^2}{\\beta_2^2} \\right)$ and max firing rate $\\alpha = \\exp(\\beta_0) \\kappa$\n"
   ]
  },
  {
   "cell_type": "code",
   "execution_count": null,
   "metadata": {
    "pycharm": {
     "name": "#%%\n"
    }
   },
   "outputs": [],
   "source": [
    "predictors = df({\n",
    "    'Intercept': np.ones_like(head_dir),\n",
    "    'Sin': np.sin(head_dir),\n",
    "    'Cos': np.cos(head_dir)\n",
    "})\n",
    "\n",
    "model = sm.GLM(spikes, predictors, family=Poisson())  # Create the model\n",
    "results = model.fit()\n",
    "betas = results.params"
   ]
  },
  {
   "cell_type": "code",
   "execution_count": null,
   "metadata": {
    "pycharm": {
     "name": "#%%\n"
    }
   },
   "outputs": [],
   "source": [
    "pref_dir_hat = np.arctan(betas[1]/betas[2])  # that looks about right\n",
    "precision_hat = betas[2] * np.sqrt(1 + (betas[1]/betas[2])**2)  # awesome\n",
    "max_rate_hat = np.exp(betas[0]+precision_hat) *samp_freq  # cool\n",
    "\n",
    "print('True max rate {:.2f}, estimated {:.2f}'.format(max_rate, max_rate_hat))\n",
    "print('True preferred direction {:.2f}, estimated {:.2f} in pi radians'.format(pref_dir / np.pi, pref_dir_hat/np.pi))\n",
    "print('True precision {:.2f}, estimated {:.2f}'.format(precision, precision_hat))\n"
   ]
  },
  {
   "cell_type": "code",
   "execution_count": null,
   "metadata": {
    "pycharm": {
     "name": "#%%\n"
    }
   },
   "outputs": [],
   "source": [
    "new_predictors = df({\n",
    "    'Intercept': np.ones_like(bin_centres),\n",
    "    'Sin': np.sin(bin_centres),\n",
    "    'Cos': np.cos(bin_centres)\n",
    "})\n",
    "\n",
    "predicted_rates = results.predict(new_predictors)"
   ]
  },
  {
   "cell_type": "code",
   "execution_count": null,
   "metadata": {
    "pycharm": {
     "name": "#%%\n"
    }
   },
   "outputs": [],
   "source": [
    "fig, ax = plt.subplots(subplot_kw={'projection': 'polar'})\n",
    "\n",
    "ax.bar(bin_centres, predicted_rates*samp_freq, width=width)\n",
    "plt.title('Predicted rates')"
   ]
  },
  {
   "cell_type": "code",
   "execution_count": null,
   "metadata": {
    "pycharm": {
     "name": "#%%\n"
    }
   },
   "outputs": [],
   "source": []
  },
  {
   "cell_type": "code",
   "execution_count": null,
   "metadata": {
    "pycharm": {
     "name": "#%%\n"
    }
   },
   "outputs": [],
   "source": []
  },
  {
   "cell_type": "code",
   "execution_count": null,
   "metadata": {
    "pycharm": {
     "name": "#%%\n"
    }
   },
   "outputs": [],
   "source": []
  },
  {
   "cell_type": "code",
   "execution_count": null,
   "metadata": {
    "pycharm": {
     "name": "#%%\n"
    }
   },
   "outputs": [],
   "source": []
  },
  {
   "cell_type": "code",
   "execution_count": null,
   "metadata": {
    "pycharm": {
     "name": "#%%\n"
    }
   },
   "outputs": [],
   "source": []
  },
  {
   "cell_type": "code",
   "execution_count": null,
   "metadata": {
    "pycharm": {
     "name": "#%%\n"
    }
   },
   "outputs": [],
   "source": []
  },
  {
   "cell_type": "code",
   "execution_count": null,
   "metadata": {
    "pycharm": {
     "name": "#%%\n"
    }
   },
   "outputs": [],
   "source": []
  },
  {
   "cell_type": "code",
   "execution_count": null,
   "metadata": {
    "pycharm": {
     "name": "#%%\n"
    }
   },
   "outputs": [],
   "source": []
  },
  {
   "cell_type": "code",
   "execution_count": null,
   "metadata": {
    "pycharm": {
     "name": "#%%\n"
    }
   },
   "outputs": [],
   "source": []
  }
 ],
 "metadata": {
  "kernelspec": {
   "display_name": "Python 3",
   "language": "python",
   "name": "python3"
  },
  "language_info": {
   "codemirror_mode": {
    "name": "ipython",
    "version": 2
   },
   "file_extension": ".py",
   "mimetype": "text/x-python",
   "name": "python",
   "nbconvert_exporter": "python",
   "pygments_lexer": "ipython2"
  }
 },
 "nbformat": 4,
 "nbformat_minor": 0
}
